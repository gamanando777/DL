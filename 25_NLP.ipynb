{
 "cells": [
  {
   "cell_type": "code",
   "execution_count": 1,
   "id": "78a003ba",
   "metadata": {},
   "outputs": [],
   "source": [
    "# 기본\n",
    "import pandas as pd\n",
    "import numpy as np\n",
    "import matplotlib.pyplot as plt\n",
    "import seaborn as sns\n",
    "\n",
    "# 경고가 뜨지 않도록..\n",
    "import warnings\n",
    "warnings.filterwarnings('ignore')\n",
    "\n",
    "# 그래프 설정\n",
    "plt.rcParams['font.family'] = 'Malgun Gothic'\n",
    "# plt.rcParams['font.family'] = 'AppleGothic'\n",
    "plt.rcParams['font.size'] = 16\n",
    "plt.rcParams['figure.figsize'] = 20, 10\n",
    "plt.rcParams['axes.unicode_minus'] = False\n",
    "\n",
    "# 출력 창 청소\n",
    "from IPython.display import clear_output\n",
    "\n",
    "import time\n",
    "\n",
    "# 평가함수\n",
    "# 분류용\n",
    "from sklearn.metrics import accuracy_score\n",
    "from sklearn.metrics import precision_score\n",
    "from sklearn.metrics import recall_score\n",
    "from sklearn.metrics import f1_score\n",
    "from sklearn.metrics import roc_auc_score\n",
    "\n",
    "# 회귀용\n",
    "from sklearn.metrics import r2_score\n",
    "from sklearn.metrics import mean_squared_error\n",
    "\n",
    "# 딥러닝\n",
    "import tensorflow as tf\n",
    "\n",
    "# 딥러닝 모델 구조를 정의하는 것\n",
    "from tensorflow.keras.models import Sequential\n",
    "# 층 모델(은닉층과 출력층)\n",
    "from tensorflow.keras.layers import Dense\n",
    "# 활성화 함수를 정의하는 것\n",
    "from tensorflow.keras.layers import Activation\n",
    "# CNN : 커널을 통해 합성곱을 구하는 것. 이미지의 특징을 두드러지게 한다.\n",
    "from tensorflow.keras.layers import Conv2D\n",
    "# MaxPooling : 불필요한 부분을 제거하는 역할을 한다\n",
    "from tensorflow.keras.layers import MaxPool2D\n",
    "# Flatten : CNN, MaxPooling은 2차원 데이터를 사용하고 출력하기 때문에\n",
    "# 1차원 데이터로 변하는 것을 사용해야 한다.\n",
    "from tensorflow.keras.layers import Flatten\n",
    "# Dropout : 노드의 일부를 on/off 하면서 과적합을 예방한다.\n",
    "from tensorflow.keras.layers import Dropout\n",
    "# Embedding : 주어진 단어 데이터를 원핫 인코딩하고 차원축소를 한다.\n",
    "from tensorflow.keras.layers import Embedding\n",
    "\n",
    "\n",
    "# 데이터 표준화\n",
    "from sklearn.preprocessing import StandardScaler\n",
    "# 문자열을 숫자로 변환\n",
    "from sklearn.preprocessing import LabelEncoder\n",
    "# 원핫 인코딩\n",
    "from tensorflow.keras.utils import to_categorical\n",
    "\n",
    "# 학습데이터와 검증데이터로 나눈다\n",
    "from sklearn.model_selection import train_test_split\n",
    "\n",
    "# K폴드 교차검증\n",
    "from sklearn.model_selection import KFold\n",
    "\n",
    "# 저장된 모델을 복원한다.\n",
    "from tensorflow.keras.models import load_model\n",
    "\n",
    "# epoch 마다 저장을 하기 위해 사용한다.\n",
    "from tensorflow.keras.callbacks import ModelCheckpoint\n",
    "# 조기 중단을 위해 사용한다.\n",
    "from tensorflow.keras.callbacks import EarlyStopping\n",
    "\n",
    "# 문장을 잘라준다.\n",
    "from tensorflow.keras.preprocessing.text import Tokenizer\n",
    "# 모든 문장의 데이터의 단어 데이터 수를 동일한 수로 맞춰준다.\n",
    "from tensorflow.keras.preprocessing.sequence import pad_sequences\n",
    "# 문자열을 단어사전으로 만들어준다.\n",
    "from tensorflow.keras.preprocessing.text import text_to_word_sequence\n",
    "\n",
    "\n",
    "# GPU 할당\n",
    "gpus = tf.config.experimental.list_physical_devices('GPU')\n",
    "# GPU가 있다면..\n",
    "if len(gpus) > 0 :\n",
    "    try :\n",
    "        for gpu in gpus :\n",
    "            tf.config.experimental.set_memory_growth(gpu, True)\n",
    "    except RuntimeError as e :\n",
    "        print(e)"
   ]
  },
  {
   "cell_type": "markdown",
   "id": "b9ac7256",
   "metadata": {},
   "source": [
    "### 문장 자르기\n"
   ]
  },
  {
   "cell_type": "code",
   "execution_count": 2,
   "id": "cbbc9ad0",
   "metadata": {},
   "outputs": [],
   "source": [
    "# 테스트 문자열\n",
    "text = '해보지 않으면 해낼 수 없다'"
   ]
  },
  {
   "cell_type": "code",
   "execution_count": 3,
   "id": "7b2516d1",
   "metadata": {},
   "outputs": [
    {
     "name": "stdout",
     "output_type": "stream",
     "text": [
      "원본 : 해보지 않으면 해낼 수 없다\n",
      "토큰화 : ['해보지', '않으면', '해낼', '수', '없다']\n"
     ]
    }
   ],
   "source": [
    "# 주어진 문장을 토큰화 한다.\n",
    "result = text_to_word_sequence(text)\n",
    "print(f'원본 : {text}')\n",
    "print(f'토큰화 : {result}')\n"
   ]
  },
  {
   "cell_type": "markdown",
   "id": "3edfd6f6",
   "metadata": {},
   "source": [
    "### 단어 빈도수"
   ]
  },
  {
   "cell_type": "code",
   "execution_count": 4,
   "id": "1c524b2d",
   "metadata": {},
   "outputs": [],
   "source": [
    "docs = [\n",
    "    '먼저 텍스트와 각 단어를 나누어 토큰화 합니다',\n",
    "    '텍스트의 단어로 토큰화 해야 딥러닝에서 인식됩니다',\n",
    "    '토큰화 한 결과는 딥러닝에서 사용할 수 있다'\n",
    "]\n"
   ]
  },
  {
   "cell_type": "code",
   "execution_count": 5,
   "id": "98a573ad",
   "metadata": {},
   "outputs": [],
   "source": [
    "# 토큰화 함수를 통해 전처리를 한다.\n",
    "token = Tokenizer()\n",
    "token.fit_on_texts(docs)\n"
   ]
  },
  {
   "cell_type": "code",
   "execution_count": 6,
   "id": "1587d885",
   "metadata": {},
   "outputs": [
    {
     "data": {
      "text/plain": [
       "OrderedDict([('먼저', 1),\n",
       "             ('텍스트와', 1),\n",
       "             ('각', 1),\n",
       "             ('단어를', 1),\n",
       "             ('나누어', 1),\n",
       "             ('토큰화', 3),\n",
       "             ('합니다', 1),\n",
       "             ('텍스트의', 1),\n",
       "             ('단어로', 1),\n",
       "             ('해야', 1),\n",
       "             ('딥러닝에서', 2),\n",
       "             ('인식됩니다', 1),\n",
       "             ('한', 1),\n",
       "             ('결과는', 1),\n",
       "             ('사용할', 1),\n",
       "             ('수', 1),\n",
       "             ('있다', 1)])"
      ]
     },
     "execution_count": 6,
     "metadata": {},
     "output_type": "execute_result"
    }
   ],
   "source": [
    "# 단어 빈도수\n",
    "# 전체에서 어떤 단어가 몇 개씩 나왔는가...\n",
    "token.word_counts\n"
   ]
  },
  {
   "cell_type": "code",
   "execution_count": 7,
   "id": "acdc9b2a",
   "metadata": {},
   "outputs": [
    {
     "data": {
      "text/plain": [
       "3"
      ]
     },
     "execution_count": 7,
     "metadata": {},
     "output_type": "execute_result"
    }
   ],
   "source": [
    "# 학습했던 문장의 개수\n",
    "token.document_count\n"
   ]
  },
  {
   "cell_type": "code",
   "execution_count": 8,
   "id": "7f7c62cc",
   "metadata": {},
   "outputs": [
    {
     "data": {
      "text/plain": [
       "defaultdict(int,\n",
       "            {'합니다': 1,\n",
       "             '먼저': 1,\n",
       "             '텍스트와': 1,\n",
       "             '단어를': 1,\n",
       "             '각': 1,\n",
       "             '토큰화': 3,\n",
       "             '나누어': 1,\n",
       "             '해야': 1,\n",
       "             '단어로': 1,\n",
       "             '텍스트의': 1,\n",
       "             '인식됩니다': 1,\n",
       "             '딥러닝에서': 2,\n",
       "             '사용할': 1,\n",
       "             '결과는': 1,\n",
       "             '한': 1,\n",
       "             '있다': 1,\n",
       "             '수': 1})"
      ]
     },
     "execution_count": 8,
     "metadata": {},
     "output_type": "execute_result"
    }
   ],
   "source": [
    "# 각 단어가 몇개의 문장에서 나왔는지.\n",
    "token.word_docs\n"
   ]
  },
  {
   "cell_type": "code",
   "execution_count": 9,
   "id": "b4f490b2",
   "metadata": {},
   "outputs": [
    {
     "data": {
      "text/plain": [
       "{'토큰화': 1,\n",
       " '딥러닝에서': 2,\n",
       " '먼저': 3,\n",
       " '텍스트와': 4,\n",
       " '각': 5,\n",
       " '단어를': 6,\n",
       " '나누어': 7,\n",
       " '합니다': 8,\n",
       " '텍스트의': 9,\n",
       " '단어로': 10,\n",
       " '해야': 11,\n",
       " '인식됩니다': 12,\n",
       " '한': 13,\n",
       " '결과는': 14,\n",
       " '사용할': 15,\n",
       " '수': 16,\n",
       " '있다': 17}"
      ]
     },
     "execution_count": 9,
     "metadata": {},
     "output_type": "execute_result"
    }
   ],
   "source": [
    "# 각 단어에 부여된 인덱스 (1부터 시작)\n",
    "token.word_index\n"
   ]
  },
  {
   "cell_type": "markdown",
   "id": "2e0d074b",
   "metadata": {},
   "source": [
    "### 딥러닝"
   ]
  },
  {
   "cell_type": "code",
   "execution_count": 10,
   "id": "fc529e3e",
   "metadata": {},
   "outputs": [],
   "source": [
    "docs = [\n",
    "    '너무 재미있네요',\n",
    "    '최고에요',\n",
    "    '참 잘 만든 영화에요',\n",
    "    '추천하고 싶은 영화에요',\n",
    "    '한 더 보고 싶네요',\n",
    "    '글쎄요',\n",
    "    '별로에요',\n",
    "    '생각보다 지루하네요',\n",
    "    '연기가 어색해요',\n",
    "    '재미없어요'\n",
    "]\n"
   ]
  },
  {
   "cell_type": "code",
   "execution_count": 11,
   "id": "deb64189",
   "metadata": {},
   "outputs": [],
   "source": [
    "# 결과데이터\n",
    "classes = np.array([1, 1, 1, 1, 1, 0, 0, 0, 0, 0])\n"
   ]
  },
  {
   "cell_type": "code",
   "execution_count": 12,
   "id": "6b9086a6",
   "metadata": {},
   "outputs": [],
   "source": [
    "# 토큰화\n",
    "token = Tokenizer()\n",
    "token.fit_on_texts(docs)\n"
   ]
  },
  {
   "cell_type": "code",
   "execution_count": 13,
   "id": "9543454f",
   "metadata": {},
   "outputs": [
    {
     "data": {
      "text/plain": [
       "{'영화에요': 1,\n",
       " '너무': 2,\n",
       " '재미있네요': 3,\n",
       " '최고에요': 4,\n",
       " '참': 5,\n",
       " '잘': 6,\n",
       " '만든': 7,\n",
       " '추천하고': 8,\n",
       " '싶은': 9,\n",
       " '한': 10,\n",
       " '더': 11,\n",
       " '보고': 12,\n",
       " '싶네요': 13,\n",
       " '글쎄요': 14,\n",
       " '별로에요': 15,\n",
       " '생각보다': 16,\n",
       " '지루하네요': 17,\n",
       " '연기가': 18,\n",
       " '어색해요': 19,\n",
       " '재미없어요': 20}"
      ]
     },
     "execution_count": 13,
     "metadata": {},
     "output_type": "execute_result"
    }
   ],
   "source": [
    "token.word_index # 단어사전"
   ]
  },
  {
   "cell_type": "code",
   "execution_count": 14,
   "id": "b5dfcca1",
   "metadata": {},
   "outputs": [
    {
     "data": {
      "text/plain": [
       "[[2, 3],\n",
       " [4],\n",
       " [5, 6, 7, 1],\n",
       " [8, 9, 1],\n",
       " [10, 11, 12, 13],\n",
       " [14],\n",
       " [15],\n",
       " [16, 17],\n",
       " [18, 19],\n",
       " [20]]"
      ]
     },
     "execution_count": 14,
     "metadata": {},
     "output_type": "execute_result"
    }
   ],
   "source": [
    "# 각 문장을 토큰화 시킨 데이터를 단어 인덱스로 변환한다.\n",
    "X = token.texts_to_sequences(docs)\n",
    "X\n",
    "\n",
    "# [2,3] = 너무 재미있네요"
   ]
  },
  {
   "cell_type": "code",
   "execution_count": 15,
   "id": "fc3a36f3",
   "metadata": {},
   "outputs": [
    {
     "data": {
      "text/plain": [
       "array([[ 0,  0,  2,  3],\n",
       "       [ 0,  0,  0,  4],\n",
       "       [ 5,  6,  7,  1],\n",
       "       [ 0,  8,  9,  1],\n",
       "       [10, 11, 12, 13],\n",
       "       [ 0,  0,  0, 14],\n",
       "       [ 0,  0,  0, 15],\n",
       "       [ 0,  0, 16, 17],\n",
       "       [ 0,  0, 18, 19],\n",
       "       [ 0,  0,  0, 20]])"
      ]
     },
     "execution_count": 15,
     "metadata": {},
     "output_type": "execute_result"
    }
   ],
   "source": [
    "# 각 리스트의 데이터의 개수를 최대 개수로 통일한다. \n",
    "# 각 리스트의 데이터의 개수를 최대 개수로 통일한다.\n",
    "padded_x = pad_sequences(X, 4)\n",
    "padded_x\n"
   ]
  },
  {
   "cell_type": "code",
   "execution_count": 16,
   "id": "c18b7694",
   "metadata": {},
   "outputs": [
    {
     "data": {
      "text/plain": [
       "21"
      ]
     },
     "execution_count": 16,
     "metadata": {},
     "output_type": "execute_result"
    }
   ],
   "source": [
    "# 임베딩 층을 위한 단어의 개수를 구한다.\n",
    "# 단어사전에서 단어의 번호가 1부터 시작하므로 0부터 인식하는\n",
    "# 임베딩을 위해 1을 더한다.\n",
    "word_size = len(token.word_index) + 1\n",
    "word_size\n"
   ]
  },
  {
   "cell_type": "code",
   "execution_count": 19,
   "id": "03e7d0b2",
   "metadata": {},
   "outputs": [],
   "source": [
    "# 학습 모델을 구현한다.\n",
    "model = Sequential()\n",
    "\n",
    "# Embedding\n",
    "# 단어 값들에 원핫 인코딩을 수행한 후 결과와 상관관계가 높은(빈도가 많은) 단어\n",
    "# 단어 컬럼을 기준으로 지정한 컬럼수 만큼 선택하여 다른 컬럼의 데이터를 압축하는 은닉층\n",
    "# 첫 번째 : 원핫 인코딩 결과의 단어 수\n",
    "# 두 번째 : 차원 축소 결과의 단어 수\n",
    "# 세 번째 : 입력노드의 수\n",
    "model.add(Embedding(word_size, 3, input_length=4))\n",
    "\n",
    "# 1차원으로 변경\n",
    "model.add(Flatten())\n",
    "\n",
    "# 출력층\n",
    "model.add(Dense(1))\n",
    "model.add(Activation('sigmoid'))"
   ]
  },
  {
   "cell_type": "code",
   "execution_count": 20,
   "id": "cc575e31",
   "metadata": {},
   "outputs": [],
   "source": [
    "# 컴파일\n",
    "model.compile(loss='binary_crossentropy', optimizer='adam',\n",
    "              metrics=['accuracy'])\n"
   ]
  },
  {
   "cell_type": "code",
   "execution_count": 21,
   "id": "49b5bd64",
   "metadata": {},
   "outputs": [
    {
     "name": "stdout",
     "output_type": "stream",
     "text": [
      "Epoch 1/20\n",
      "1/1 [==============================] - 2s 2s/step - loss: 0.6935 - accuracy: 0.4000\n",
      "Epoch 2/20\n",
      "1/1 [==============================] - 0s 8ms/step - loss: 0.6922 - accuracy: 0.5000\n",
      "Epoch 3/20\n",
      "1/1 [==============================] - 0s 9ms/step - loss: 0.6909 - accuracy: 0.5000\n",
      "Epoch 4/20\n",
      "1/1 [==============================] - 0s 8ms/step - loss: 0.6895 - accuracy: 0.5000\n",
      "Epoch 5/20\n",
      "1/1 [==============================] - 0s 8ms/step - loss: 0.6882 - accuracy: 0.5000\n",
      "Epoch 6/20\n",
      "1/1 [==============================] - 0s 6ms/step - loss: 0.6869 - accuracy: 0.5000\n",
      "Epoch 7/20\n",
      "1/1 [==============================] - 0s 7ms/step - loss: 0.6855 - accuracy: 0.6000\n",
      "Epoch 8/20\n",
      "1/1 [==============================] - 0s 6ms/step - loss: 0.6842 - accuracy: 0.6000\n",
      "Epoch 9/20\n",
      "1/1 [==============================] - 0s 6ms/step - loss: 0.6829 - accuracy: 0.6000\n",
      "Epoch 10/20\n",
      "1/1 [==============================] - 0s 5ms/step - loss: 0.6815 - accuracy: 0.6000\n",
      "Epoch 11/20\n",
      "1/1 [==============================] - 0s 6ms/step - loss: 0.6802 - accuracy: 0.6000\n",
      "Epoch 12/20\n",
      "1/1 [==============================] - 0s 6ms/step - loss: 0.6789 - accuracy: 0.6000\n",
      "Epoch 13/20\n",
      "1/1 [==============================] - 0s 5ms/step - loss: 0.6775 - accuracy: 0.6000\n",
      "Epoch 14/20\n",
      "1/1 [==============================] - 0s 5ms/step - loss: 0.6762 - accuracy: 0.7000\n",
      "Epoch 15/20\n",
      "1/1 [==============================] - 0s 5ms/step - loss: 0.6748 - accuracy: 0.7000\n",
      "Epoch 16/20\n",
      "1/1 [==============================] - 0s 5ms/step - loss: 0.6735 - accuracy: 0.8000\n",
      "Epoch 17/20\n",
      "1/1 [==============================] - 0s 5ms/step - loss: 0.6722 - accuracy: 0.8000\n",
      "Epoch 18/20\n",
      "1/1 [==============================] - 0s 6ms/step - loss: 0.6708 - accuracy: 0.8000\n",
      "Epoch 19/20\n",
      "1/1 [==============================] - 0s 6ms/step - loss: 0.6695 - accuracy: 0.9000\n",
      "Epoch 20/20\n",
      "1/1 [==============================] - 0s 5ms/step - loss: 0.6681 - accuracy: 0.9000\n"
     ]
    },
    {
     "data": {
      "text/plain": [
       "<keras.callbacks.History at 0x1742040b5e0>"
      ]
     },
     "execution_count": 21,
     "metadata": {},
     "output_type": "execute_result"
    }
   ],
   "source": [
    "# 학습\n",
    "model.fit(padded_x, classes, epochs=20)\n"
   ]
  },
  {
   "cell_type": "code",
   "execution_count": 22,
   "id": "97788a93",
   "metadata": {},
   "outputs": [
    {
     "name": "stdout",
     "output_type": "stream",
     "text": [
      "1/1 [==============================] - 0s 109ms/step - loss: 0.6667 - accuracy: 1.0000\n",
      "손실률 : 0.6667443513870239\n",
      "정확도 : 1.0\n"
     ]
    }
   ],
   "source": [
    "a1 = model.evaluate(padded_x, classes)\n",
    "print(f'손실률 : {a1[0]}')\n",
    "print(f'정확도 : {a1[1]}')\n",
    "# 문장이 엄청 많아야 손실률 감소함"
   ]
  },
  {
   "cell_type": "code",
   "execution_count": null,
   "id": "e947f7c9",
   "metadata": {},
   "outputs": [],
   "source": []
  },
  {
   "cell_type": "code",
   "execution_count": null,
   "id": "0be9a0d7",
   "metadata": {},
   "outputs": [],
   "source": []
  },
  {
   "cell_type": "code",
   "execution_count": null,
   "id": "e03c8633",
   "metadata": {},
   "outputs": [],
   "source": []
  }
 ],
 "metadata": {
  "kernelspec": {
   "display_name": "Python 3",
   "language": "python",
   "name": "python3"
  },
  "language_info": {
   "codemirror_mode": {
    "name": "ipython",
    "version": 3
   },
   "file_extension": ".py",
   "mimetype": "text/x-python",
   "name": "python",
   "nbconvert_exporter": "python",
   "pygments_lexer": "ipython3",
   "version": "3.8.8"
  }
 },
 "nbformat": 4,
 "nbformat_minor": 5
}
