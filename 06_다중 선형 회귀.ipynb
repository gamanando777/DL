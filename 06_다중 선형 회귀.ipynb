{
 "cells": [
  {
   "cell_type": "markdown",
   "id": "641dcc81",
   "metadata": {},
   "source": [
    "- 학습 데이터의 컬럼이 하나가 아니라 다수일 수 있다. \n",
    "- 이 때문에 최소제곱법이 아닌 경사 하강법을 이용하여 기울기와 절편을 찾게 된다. \n",
    "- 컬럼의 개수 만큼 기울기를 구해야 한다. \n",
    "- 머신러닝에서는 기울기를 '가중치'로, 절편을 '바이어스' 라는 용어로 부른다. \n",
    "- 컬럼이 1개라면..\n",
    "- y = (a * x) + b\n",
    "- 컬럼이 2개라면..\n",
    "- y = (a1 * x1) + (a2 * x2) + b\n"
   ]
  },
  {
   "cell_type": "code",
   "execution_count": 1,
   "id": "de8b124a",
   "metadata": {},
   "outputs": [],
   "source": [
    "# 기본\n",
    "import pandas as pd\n",
    "import numpy as np\n",
    "import matplotlib.pyplot as plt\n",
    "import seaborn as sns\n",
    "\n",
    "# 경고가 뜨지 않도록..\n",
    "import warnings\n",
    "warnings.filterwarnings('ignore')\n",
    "\n",
    "# 그래프 설정\n",
    "plt.rcParams['font.family'] = 'Malgun Gothic'\n",
    "# plt.rcParams['font.family'] = 'AppleGothic'\n",
    "plt.rcParams['font.size'] = 16\n",
    "plt.rcParams['figure.figsize'] = 20, 10\n",
    "plt.rcParams['axes.unicode_minus'] = False\n",
    "\n",
    "# 저장\n",
    "import pickle\n",
    "\n",
    "# 딥러닝\n",
    "import tensorflow as tf\n",
    "\n",
    "# 딥러닝 신경망 구조를 정의하는 것.\n",
    "from tensorflow.keras.models import Sequential\n",
    "# 층 구조를 정의하는 것\n",
    "from tensorflow.keras.layers import Dense\n",
    "# 활성화 함수를 정의하는 것\n",
    "from tensorflow.keras.layers import Activation\n",
    "\n",
    "# 평가함수\n",
    "# 분류용\n",
    "from sklearn.metrics import accuracy_score\n",
    "from sklearn.metrics import precision_score\n",
    "from sklearn.metrics import recall_score\n",
    "from sklearn.metrics import f1_score\n",
    "\n",
    "# 회귀용\n",
    "from sklearn.metrics import r2_score\n",
    "from sklearn.metrics import mean_squared_error\n",
    "\n",
    "# 현재 프로젝트를 GPU에 할당한다.\n",
    "# 사용한 가능한 GPU 목록을 가져온다.\n",
    "gpus = tf.config.experimental.list_physical_devices('GPU')\n",
    "# gpu가 있다면...\n",
    "if len(gpus) > 0 :\n",
    "    try :\n",
    "        for gpu in gpus :\n",
    "            tf.config.experimental.set_memory_growth(gpu, True)\n",
    "    except RuntimeError as e :\n",
    "        print(e)\n"
   ]
  },
  {
   "cell_type": "code",
   "execution_count": 2,
   "id": "f20d38fc",
   "metadata": {},
   "outputs": [],
   "source": [
    "# 입력 데이터\n",
    "공부한시간 = [2, 4, 6, 8]\n",
    "과외횟수 = [0, 4, 2, 3]\n",
    "# 결과데이터\n",
    "성적 = [81, 93, 91, 97]\n"
   ]
  },
  {
   "cell_type": "code",
   "execution_count": 3,
   "id": "4942271c",
   "metadata": {},
   "outputs": [
    {
     "name": "stdout",
     "output_type": "stream",
     "text": [
      "[2 4 6 8]\n",
      "[0 4 2 3]\n",
      "[81 93 91 97]\n"
     ]
    }
   ],
   "source": [
    "# 계산의 편리성을 위해 ndarray를 생성한다.\n",
    "x1_data = np.array(공부한시간)\n",
    "x2_data = np.array(과외횟수)\n",
    "y_data = np.array(성적)\n",
    "\n",
    "print(x1_data)\n",
    "print(x2_data)\n",
    "print(y_data)\n"
   ]
  },
  {
   "cell_type": "code",
   "execution_count": 4,
   "id": "c59ddc5d",
   "metadata": {},
   "outputs": [],
   "source": [
    "# 임의의 가중치와 바이어스\n",
    "a1 = 0\n",
    "a2 = 0\n",
    "b = 0\n"
   ]
  },
  {
   "cell_type": "code",
   "execution_count": 5,
   "id": "035cc0e7",
   "metadata": {},
   "outputs": [],
   "source": [
    "# 학습률\n",
    "lr = 0.02\n",
    "# 학습 횟수\n",
    "epochs = 10000\n"
   ]
  },
  {
   "cell_type": "code",
   "execution_count": 6,
   "id": "087b9857",
   "metadata": {},
   "outputs": [
    {
     "name": "stdout",
     "output_type": "stream",
     "text": [
      "epoch : 0, a1 : 18.56, a2 : 8.45, b : 3.62\n",
      "epoch : 100, a1 : 7.299356131570395, a2 : 4.286665010585169, b : 38.042652982512955\n",
      "epoch : 200, a1 : 4.568311781727336, a2 : 3.3451273722751873, b : 56.790141149124004\n",
      "epoch : 300, a1 : 3.123530871282515, a2 : 2.8462827383999394, b : 66.7099863300557\n",
      "epoch : 400, a1 : 2.3590568721663314, a2 : 2.5823271856465215, b : 71.95886174757398\n",
      "epoch : 500, a1 : 1.9545516974228956, a2 : 2.442660701658837, b : 74.7361926881844\n",
      "epoch : 600, a1 : 1.740516375960825, a2 : 2.36875914815153, b : 76.20575836457972\n",
      "epoch : 700, a1 : 1.6272641317441279, a2 : 2.329655710790506, b : 76.98334782850002\n",
      "epoch : 800, a1 : 1.567339112207579, a2 : 2.308964957472434, b : 77.39479277724362\n",
      "epoch : 900, a1 : 1.5356310609341417, a2 : 2.2980168848281646, b : 77.61250013273312\n",
      "epoch : 1000, a1 : 1.5188534190854597, a2 : 2.2922239447267723, b : 77.72769535576111\n",
      "epoch : 1100, a1 : 1.5099758862602783, a2 : 2.2891587335148356, b : 77.78864846126655\n",
      "epoch : 1200, a1 : 1.5052785283256482, a2 : 2.287536842107476, b : 77.8209005023938\n",
      "epoch : 1300, a1 : 1.502793021146972, a2 : 2.2866786527184364, b : 77.83796598491914\n",
      "epoch : 1400, a1 : 1.5014778678158316, a2 : 2.286224560031267, b : 77.84699582252465\n",
      "epoch : 1500, a1 : 1.5007819823646602, a2 : 2.285984286530829, b : 77.85177376929884\n",
      "epoch : 1600, a1 : 1.5004137693588648, a2 : 2.285857150911512, b : 77.85430191835023\n",
      "epoch : 1700, a1 : 1.5002189372677344, a2 : 2.2857898797989242, b : 77.85563963472262\n",
      "epoch : 1800, a1 : 1.5001158460049715, a2 : 2.285754284718546, b : 77.85634745892779\n",
      "epoch : 1900, a1 : 1.5000612974529453, a2 : 2.285735450337806, b : 77.85672198907173\n",
      "epoch : 2000, a1 : 1.5000324342452573, a2 : 2.28572548452528, b : 77.85692016374233\n",
      "epoch : 2100, a1 : 1.500017161891969, a2 : 2.285720211327259, b : 77.85702502366001\n",
      "epoch : 2200, a1 : 1.5000090808506148, a2 : 2.2857174211265296, b : 77.8570805080582\n",
      "epoch : 2300, a1 : 1.5000048049392185, a2 : 2.2857159447510753, b : 77.85710986644905\n",
      "epoch : 2400, a1 : 1.5000025424315222, a2 : 2.285715163558362, b : 77.857125400818\n",
      "epoch : 2500, a1 : 1.5000013452736423, a2 : 2.285714750206836, b : 77.85713362049931\n",
      "epoch : 2600, a1 : 1.5000007118229701, a2 : 2.28571453149065, b : 77.85713796976914\n",
      "epoch : 2700, a1 : 1.5000003766459993, a2 : 2.2857144157616265, b : 77.8571402710929\n",
      "epoch : 2800, a1 : 1.5000001992942353, a2 : 2.2857143545260756, b : 77.85714148878942\n",
      "epoch : 2900, a1 : 1.5000001054523164, a2 : 2.2857143221245844, b : 77.85714213310767\n",
      "epoch : 3000, a1 : 1.5000000557978537, a2 : 2.2857143049800204, b : 77.85714247403502\n",
      "epoch : 3100, a1 : 1.5000000295242475, a2 : 2.28571429590834, b : 77.8571426544295\n",
      "epoch : 3200, a1 : 1.5000000156221247, a2 : 2.2857142911082513, b : 77.85714274988142\n",
      "epoch : 3300, a1 : 1.5000000082661136, a2 : 2.2857142885683883, b : 77.85714280038775\n",
      "epoch : 3400, a1 : 1.5000000043738346, a2 : 2.285714287224472, b : 77.85714282711211\n",
      "epoch : 3500, a1 : 1.5000000023143247, a2 : 2.285714286513369, b : 77.85714284125271\n",
      "epoch : 3600, a1 : 1.5000000012245713, a2 : 2.2857142861371025, b : 77.85714284873495\n",
      "epoch : 3700, a1 : 1.500000000647962, a2 : 2.285714285938012, b : 77.85714285269395\n",
      "epoch : 3800, a1 : 1.5000000003428522, a2 : 2.285714285832665, b : 77.85714285478883\n",
      "epoch : 3900, a1 : 1.5000000001814182, a2 : 2.2857142857769257, b : 77.85714285589725\n",
      "epoch : 4000, a1 : 1.5000000000959917, a2 : 2.2857142857474293, b : 77.85714285648378\n",
      "epoch : 4100, a1 : 1.5000000000507892, a2 : 2.2857142857318213, b : 77.85714285679414\n",
      "epoch : 4200, a1 : 1.5000000000268732, a2 : 2.285714285723564, b : 77.85714285695835\n",
      "epoch : 4300, a1 : 1.5000000000142253, a2 : 2.285714285719197, b : 77.85714285704519\n",
      "epoch : 4400, a1 : 1.500000000007527, a2 : 2.285714285716885, b : 77.85714285709118\n",
      "epoch : 4500, a1 : 1.5000000000039848, a2 : 2.2857142857156627, b : 77.85714285711549\n",
      "epoch : 4600, a1 : 1.5000000000021059, a2 : 2.2857142857150134, b : 77.85714285712838\n",
      "epoch : 4700, a1 : 1.5000000000011122, a2 : 2.2857142857146693, b : 77.85714285713522\n",
      "epoch : 4800, a1 : 1.5000000000005995, a2 : 2.2857142857144916, b : 77.85714285713874\n",
      "epoch : 4900, a1 : 1.500000000000336, a2 : 2.285714285714402, b : 77.85714285714056\n",
      "epoch : 5000, a1 : 1.5000000000001525, a2 : 2.2857142857143375, b : 77.85714285714181\n",
      "epoch : 5100, a1 : 1.5000000000001525, a2 : 2.2857142857143375, b : 77.85714285714181\n",
      "epoch : 5200, a1 : 1.5000000000001525, a2 : 2.2857142857143375, b : 77.85714285714181\n",
      "epoch : 5300, a1 : 1.5000000000001525, a2 : 2.2857142857143375, b : 77.85714285714181\n",
      "epoch : 5400, a1 : 1.5000000000001525, a2 : 2.2857142857143375, b : 77.85714285714181\n",
      "epoch : 5500, a1 : 1.5000000000001525, a2 : 2.2857142857143375, b : 77.85714285714181\n",
      "epoch : 5600, a1 : 1.5000000000001525, a2 : 2.2857142857143375, b : 77.85714285714181\n",
      "epoch : 5700, a1 : 1.5000000000001525, a2 : 2.2857142857143375, b : 77.85714285714181\n",
      "epoch : 5800, a1 : 1.5000000000001525, a2 : 2.2857142857143375, b : 77.85714285714181\n",
      "epoch : 5900, a1 : 1.5000000000001525, a2 : 2.2857142857143375, b : 77.85714285714181\n",
      "epoch : 6000, a1 : 1.5000000000001525, a2 : 2.2857142857143375, b : 77.85714285714181\n",
      "epoch : 6100, a1 : 1.5000000000001525, a2 : 2.2857142857143375, b : 77.85714285714181\n",
      "epoch : 6200, a1 : 1.5000000000001525, a2 : 2.2857142857143375, b : 77.85714285714181\n",
      "epoch : 6300, a1 : 1.5000000000001525, a2 : 2.2857142857143375, b : 77.85714285714181\n",
      "epoch : 6400, a1 : 1.5000000000001525, a2 : 2.2857142857143375, b : 77.85714285714181\n",
      "epoch : 6500, a1 : 1.5000000000001525, a2 : 2.2857142857143375, b : 77.85714285714181\n",
      "epoch : 6600, a1 : 1.5000000000001525, a2 : 2.2857142857143375, b : 77.85714285714181\n",
      "epoch : 6700, a1 : 1.5000000000001525, a2 : 2.2857142857143375, b : 77.85714285714181\n",
      "epoch : 6800, a1 : 1.5000000000001525, a2 : 2.2857142857143375, b : 77.85714285714181\n",
      "epoch : 6900, a1 : 1.5000000000001525, a2 : 2.2857142857143375, b : 77.85714285714181\n",
      "epoch : 7000, a1 : 1.5000000000001525, a2 : 2.2857142857143375, b : 77.85714285714181\n",
      "epoch : 7100, a1 : 1.5000000000001525, a2 : 2.2857142857143375, b : 77.85714285714181\n",
      "epoch : 7200, a1 : 1.5000000000001525, a2 : 2.2857142857143375, b : 77.85714285714181\n",
      "epoch : 7300, a1 : 1.5000000000001525, a2 : 2.2857142857143375, b : 77.85714285714181\n",
      "epoch : 7400, a1 : 1.5000000000001525, a2 : 2.2857142857143375, b : 77.85714285714181\n",
      "epoch : 7500, a1 : 1.5000000000001525, a2 : 2.2857142857143375, b : 77.85714285714181\n",
      "epoch : 7600, a1 : 1.5000000000001525, a2 : 2.2857142857143375, b : 77.85714285714181\n",
      "epoch : 7700, a1 : 1.5000000000001525, a2 : 2.2857142857143375, b : 77.85714285714181\n",
      "epoch : 7800, a1 : 1.5000000000001525, a2 : 2.2857142857143375, b : 77.85714285714181\n",
      "epoch : 7900, a1 : 1.5000000000001525, a2 : 2.2857142857143375, b : 77.85714285714181\n",
      "epoch : 8000, a1 : 1.5000000000001525, a2 : 2.2857142857143375, b : 77.85714285714181\n",
      "epoch : 8100, a1 : 1.5000000000001525, a2 : 2.2857142857143375, b : 77.85714285714181\n",
      "epoch : 8200, a1 : 1.5000000000001525, a2 : 2.2857142857143375, b : 77.85714285714181\n",
      "epoch : 8300, a1 : 1.5000000000001525, a2 : 2.2857142857143375, b : 77.85714285714181\n",
      "epoch : 8400, a1 : 1.5000000000001525, a2 : 2.2857142857143375, b : 77.85714285714181\n",
      "epoch : 8500, a1 : 1.5000000000001525, a2 : 2.2857142857143375, b : 77.85714285714181\n",
      "epoch : 8600, a1 : 1.5000000000001525, a2 : 2.2857142857143375, b : 77.85714285714181\n",
      "epoch : 8700, a1 : 1.5000000000001525, a2 : 2.2857142857143375, b : 77.85714285714181\n",
      "epoch : 8800, a1 : 1.5000000000001525, a2 : 2.2857142857143375, b : 77.85714285714181\n",
      "epoch : 8900, a1 : 1.5000000000001525, a2 : 2.2857142857143375, b : 77.85714285714181\n",
      "epoch : 9000, a1 : 1.5000000000001525, a2 : 2.2857142857143375, b : 77.85714285714181\n",
      "epoch : 9100, a1 : 1.5000000000001525, a2 : 2.2857142857143375, b : 77.85714285714181\n",
      "epoch : 9200, a1 : 1.5000000000001525, a2 : 2.2857142857143375, b : 77.85714285714181\n",
      "epoch : 9300, a1 : 1.5000000000001525, a2 : 2.2857142857143375, b : 77.85714285714181\n",
      "epoch : 9400, a1 : 1.5000000000001525, a2 : 2.2857142857143375, b : 77.85714285714181\n",
      "epoch : 9500, a1 : 1.5000000000001525, a2 : 2.2857142857143375, b : 77.85714285714181\n",
      "epoch : 9600, a1 : 1.5000000000001525, a2 : 2.2857142857143375, b : 77.85714285714181\n",
      "epoch : 9700, a1 : 1.5000000000001525, a2 : 2.2857142857143375, b : 77.85714285714181\n",
      "epoch : 9800, a1 : 1.5000000000001525, a2 : 2.2857142857143375, b : 77.85714285714181\n",
      "epoch : 9900, a1 : 1.5000000000001525, a2 : 2.2857142857143375, b : 77.85714285714181\n"
     ]
    }
   ],
   "source": [
    "# 학습 횟수 만큼 반복한다.\n",
    "for i in range(epochs):\n",
    "\n",
    "    # 현재의 가중치와 바이어스를 이용해 예측 결과를 가져온다.\n",
    "    y_pred = (a1 * x1_data) + (a2 * x2_data) + b\n",
    "    # print(y_pred)\n",
    "    # 오차를 구한다\n",
    "    error = y_data - y_pred\n",
    "    # print(error)\n",
    "\n",
    "    # 오차값을 가중치로 미분한 값\n",
    "    a1_diff = -(2 / len(x1_data)) * sum(x1_data * error)\n",
    "    a2_diff = -(2 / len(x2_data)) * sum(x2_data * error)\n",
    "    # 오차값을 바이어스로 미분한 값\n",
    "    b_diff = -(2 / len(x1_data)) * sum(error)\n",
    "\n",
    "    # print(a_diff)\n",
    "    # print(b_diff)\n",
    "\n",
    "    # 학습률을 곱해 기존의 가중치와 바이어스를 업데이트 한다.\n",
    "    a1 = a1 - (lr * a1_diff)\n",
    "    a2 = a2 - (lr * a2_diff)\n",
    "    b = b - (lr * b_diff)\n",
    "\n",
    "    # print(기울기)\n",
    "    # print(절편)\n",
    "    \n",
    "    # 100 회마다 한번씩 결과를 출력한다.\n",
    "    if i % 100 == 0 :\n",
    "        print(f'epoch : {i}, a1 : {a1}, a2 : {a2}, b : {b}')\n",
    "\n"
   ]
  },
  {
   "cell_type": "code",
   "execution_count": 7,
   "id": "015da3bf",
   "metadata": {},
   "outputs": [
    {
     "data": {
      "text/plain": [
       "array([80.85714286, 93.        , 91.42857143, 96.71428571])"
      ]
     },
     "execution_count": 7,
     "metadata": {},
     "output_type": "execute_result"
    }
   ],
   "source": [
    "# 결과를 예측한다\n",
    "y_pred = (a1 * x1_data) + (a2 * x2_data) + b\n",
    "y_pred"
   ]
  },
  {
   "cell_type": "code",
   "execution_count": 8,
   "id": "255e1b80",
   "metadata": {},
   "outputs": [
    {
     "data": {
      "image/png": "[encoded data removed]",
      "text/plain": [
       "<Figure size 1440x720 with 1 Axes>"
      ]
     },
     "metadata": {
      "needs_background": "light"
     },
     "output_type": "display_data"
    }
   ],
   "source": [
    "plt.scatter([1, 2, 3, 4], y_data, label='original')\n",
    "plt.scatter([1, 2, 3, 4], y_pred, label='prediction')\n",
    "plt.legend()\n",
    "plt.show()\n"
   ]
  },
  {
   "cell_type": "code",
   "execution_count": null,
   "id": "b77b2dfa",
   "metadata": {},
   "outputs": [],
   "source": []
  },
  {
   "cell_type": "code",
   "execution_count": null,
   "id": "fdf813e9",
   "metadata": {},
   "outputs": [],
   "source": []
  }
 ],
 "metadata": {
  "kernelspec": {
   "display_name": "Python 3",
   "language": "python",
   "name": "python3"
  },
  "language_info": {
   "codemirror_mode": {
    "name": "ipython",
    "version": 3
   },
   "file_extension": ".py",
   "mimetype": "text/x-python",
   "name": "python",
   "nbconvert_exporter": "python",
   "pygments_lexer": "ipython3",
   "version": "3.8.8"
  }
 },
 "nbformat": 4,
 "nbformat_minor": 5
}
