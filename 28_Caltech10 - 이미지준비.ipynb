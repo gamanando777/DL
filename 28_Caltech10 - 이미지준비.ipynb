{
 "cells": [
  {
   "cell_type": "markdown",
   "id": "62b5bab4",
   "metadata": {},
   "source": []
  },
  {
   "cell_type": "code",
   "execution_count": 1,
   "id": "2963a9ad",
   "metadata": {},
   "outputs": [],
   "source": [
    "# 기본\n",
    "import pandas as pd\n",
    "import numpy as np\n",
    "import matplotlib.pyplot as plt\n",
    "import seaborn as sns\n",
    "\n",
    "# 경고가 뜨지 않도록..\n",
    "import warnings\n",
    "warnings.filterwarnings('ignore')\n",
    "\n",
    "# 그래프 설정\n",
    "plt.rcParams['font.family'] = 'Malgun Gothic'\n",
    "# plt.rcParams['font.family'] = 'AppleGothic'\n",
    "plt.rcParams['font.size'] = 16\n",
    "plt.rcParams['figure.figsize'] = 20, 10\n",
    "plt.rcParams['axes.unicode_minus'] = False\n",
    "\n",
    "# 출력 창 청소\n",
    "from IPython.display import clear_output\n",
    "\n",
    "import time\n",
    "\n",
    "# 평가함수\n",
    "# 분류용\n",
    "from sklearn.metrics import accuracy_score\n",
    "from sklearn.metrics import precision_score\n",
    "from sklearn.metrics import recall_score\n",
    "from sklearn.metrics import f1_score\n",
    "from sklearn.metrics import roc_auc_score\n",
    "\n",
    "# 회귀용\n",
    "from sklearn.metrics import r2_score\n",
    "from sklearn.metrics import mean_squared_error\n",
    "\n",
    "# 딥러닝\n",
    "import tensorflow as tf\n",
    "\n",
    "# 딥러닝 모델 구조를 정의하는 것\n",
    "from tensorflow.keras.models import Sequential\n",
    "# 층 모델(은닉층과 출력층)\n",
    "from tensorflow.keras.layers import Dense\n",
    "# 활성화 함수를 정의하는 것\n",
    "from tensorflow.keras.layers import Activation\n",
    "# CNN : 커널을 통해 합성곱을 구하는 것. 이미지의 특징을 두드러지게 한다.\n",
    "from tensorflow.keras.layers import Conv2D\n",
    "# MaxPooling : 불필요한 부분을 제거하는 역할을 한다\n",
    "from tensorflow.keras.layers import MaxPool2D\n",
    "# Flatten : CNN, MaxPooling은 2차원 데이터를 사용하고 출력하기 때문에\n",
    "# 1차원 데이터로 변하는 것을 사용해야 한다.\n",
    "from tensorflow.keras.layers import Flatten\n",
    "# Dropout : 노드의 일부를 on/off 하면서 과적합을 예방한다.\n",
    "from tensorflow.keras.layers import Dropout\n",
    "# Embedding : 주어진 단어 데이터를 원핫 인코딩하고 차원축소를 한다.\n",
    "from tensorflow.keras.layers import Embedding\n",
    "# 문장 학습을 위한 RNN(LSTM)\n",
    "from tensorflow.keras.layers import LSTM\n",
    "# Cnn1D\n",
    "from tensorflow.keras.layers import Conv1D\n",
    "from tensorflow.keras.layers import MaxPool1D\n",
    "\n",
    "\n",
    "# 데이터 표준화\n",
    "from sklearn.preprocessing import StandardScaler\n",
    "# 문자열을 숫자로 변환\n",
    "from sklearn.preprocessing import LabelEncoder\n",
    "# 원핫 인코딩\n",
    "from tensorflow.keras.utils import to_categorical\n",
    "\n",
    "# 학습데이터와 검증데이터로 나눈다\n",
    "from sklearn.model_selection import train_test_split\n",
    "\n",
    "# K폴드 교차검증\n",
    "from sklearn.model_selection import KFold\n",
    "\n",
    "# 저장된 모델을 복원한다.\n",
    "from tensorflow.keras.models import load_model\n",
    "\n",
    "# epoch 마다 저장을 하기 위해 사용한다.\n",
    "from tensorflow.keras.callbacks import ModelCheckpoint\n",
    "# 조기 중단을 위해 사용한다.\n",
    "from tensorflow.keras.callbacks import EarlyStopping\n",
    "\n",
    "# 문장을 잘라준다.\n",
    "from tensorflow.keras.preprocessing.text import Tokenizer\n",
    "# 모든 문장의 데이터의 단어 데이터 수를 동일한 수로 맞춰준다.\n",
    "from tensorflow.keras.preprocessing.sequence import pad_sequences\n",
    "# 문자열을 단어사전으로 만들어준다.\n",
    "from tensorflow.keras.preprocessing.text import text_to_word_sequence\n",
    "\n",
    "import os\n",
    "import glob\n",
    "from PIL import Image\n",
    "\n",
    "\n",
    "# GPU 할당\n",
    "gpus = tf.config.experimental.list_physical_devices('GPU')\n",
    "# GPU가 있다면..\n",
    "if len(gpus) > 0 :\n",
    "    try :\n",
    "        for gpu in gpus :\n",
    "            tf.config.experimental.set_memory_growth(gpu, True)\n",
    "    except RuntimeError as e :\n",
    "        print(e)"
   ]
  },
  {
   "cell_type": "code",
   "execution_count": 2,
   "id": "7f2db647",
   "metadata": {
    "scrolled": true
   },
   "outputs": [
    {
     "data": {
      "text/plain": [
       "['accordion', 'airplanes', 'anchor', 'ant', 'BACKGROUND_Google']"
      ]
     },
     "execution_count": 2,
     "metadata": {},
     "output_type": "execute_result"
    }
   ],
   "source": [
    "# 폴더 목록을 가져온다.\n",
    "root_dir = '101_ObjectCategories'\n",
    "\n",
    "a1 = os.walk(root_dir)\n",
    "categories = list(a1)[0][1]\n",
    "\n",
    "# 수업 실습을 위해 (나중에 주석처리해서 테스트)\n",
    "categories = categories[:5]\n",
    "\n",
    "categories\n"
   ]
  },
  {
   "cell_type": "code",
   "execution_count": 3,
   "id": "94abe0e3",
   "metadata": {},
   "outputs": [
    {
     "data": {
      "text/plain": [
       "5"
      ]
     },
     "execution_count": 3,
     "metadata": {},
     "output_type": "execute_result"
    }
   ],
   "source": [
    "# 카테고리의 개수\n",
    "nb_classes = len(categories)\n",
    "nb_classes\n"
   ]
  },
  {
   "cell_type": "code",
   "execution_count": 4,
   "id": "5b9e1c5d",
   "metadata": {},
   "outputs": [],
   "source": [
    "# 이미지의 크기\n",
    "image_w = 64\n",
    "image_h = 64\n"
   ]
  },
  {
   "cell_type": "code",
   "execution_count": 5,
   "id": "f0abd5c4",
   "metadata": {},
   "outputs": [],
   "source": [
    "# 이미지 데이터와 결과 데이터를 담을 리스트\n",
    "X = []\n",
    "y = []\n"
   ]
  },
  {
   "cell_type": "code",
   "execution_count": 6,
   "id": "ad5e854f",
   "metadata": {
    "scrolled": false
   },
   "outputs": [
    {
     "name": "stdout",
     "output_type": "stream",
     "text": [
      "accordion 작업중\n",
      "airplanes 작업중\n",
      "anchor 작업중\n",
      "ant 작업중\n",
      "BACKGROUND_Google 작업중\n"
     ]
    }
   ],
   "source": [
    "# 폴더의 수 만큼 반복한다.\n",
    "for idx, cat in enumerate(categories) :\n",
    "    print(f'{cat} 작업중')\n",
    "    \n",
    "    # 폴더명을 붙힌 경로를 생성한다.\n",
    "    image_dir = root_dir + '/' + cat\n",
    "    # print(image_dir)\n",
    "    \n",
    "    # 해당 폴더에서 파일 이름의 목록을 가져온다\n",
    "    files = glob.glob(image_dir + '/*.jpg') # 확장자가 jpg인것만\n",
    "    # print(files)\n",
    "    \n",
    "    # 파일의 수 만큼 반복한다.\n",
    "    for i, f in enumerate(files) :\n",
    "        # 이미지 파일의 데이터를 가져온다.\n",
    "        img = Image.open(f)\n",
    "        # 색상 체계 변경(CNN을 위해..)\n",
    "        img = img.convert('RGB')\n",
    "        # 이미지 크기 변경\n",
    "        img = img.resize((image_w, image_h))\n",
    "        # 데이터를 ndarray로 변환한다.\n",
    "        data = np.asarray(img)\n",
    "        # 데이터를 담는다.\n",
    "        X.append(data)\n",
    "        y.append(idx)\n",
    "        \n",
    "        # -20도 에서 20도까지 5도씩 증가하며 회전한다.\n",
    "        for angle in range(-20, 20, 5) :\n",
    "            # 이미지 회전\n",
    "            img2 = img.rotate(angle)\n",
    "            \n",
    "            data = np.asarray(img2)\n",
    "            X.append(data)\n",
    "            y.append(idx)\n",
    "            \n",
    "            # 회전한 이미지를 반전시킨다.\n",
    "            img3 = img2.transpose(Image.FLIP_LEFT_RIGHT)\n",
    "            \n",
    "            data = np.asarray(img3)\n",
    "            X.append(data)\n",
    "            y.append(idx)\n",
    "\n",
    "\n",
    "\n"
   ]
  },
  {
   "cell_type": "code",
   "execution_count": 7,
   "id": "1c919faa",
   "metadata": {},
   "outputs": [
    {
     "data": {
      "text/plain": [
       "23902"
      ]
     },
     "execution_count": 7,
     "metadata": {},
     "output_type": "execute_result"
    }
   ],
   "source": [
    "# 전체 이미지의 수\n",
    "len(X)"
   ]
  },
  {
   "cell_type": "code",
   "execution_count": 8,
   "id": "e0683ef7",
   "metadata": {},
   "outputs": [],
   "source": [
    "X = np.array(X)\n",
    "y = np.array(y)"
   ]
  },
  {
   "cell_type": "code",
   "execution_count": 9,
   "id": "cf9d0bb6",
   "metadata": {},
   "outputs": [
    {
     "name": "stdout",
     "output_type": "stream",
     "text": [
      "저장완료\n"
     ]
    }
   ],
   "source": [
    "# 학습 데이터와 검증데이터로 나눠 저장한다.\n",
    "X_train, X_test, y_train, y_test = train_test_split(X, y)\n",
    "\n",
    "xy = (X_train, X_test, y_train, y_test)\n",
    "\n",
    "np.save('101_new2.npy', xy)\n",
    "print('저장완료')\n"
   ]
  },
  {
   "cell_type": "code",
   "execution_count": null,
   "id": "926cd6b9",
   "metadata": {},
   "outputs": [],
   "source": []
  },
  {
   "cell_type": "code",
   "execution_count": null,
   "id": "326f8f10",
   "metadata": {},
   "outputs": [],
   "source": []
  },
  {
   "cell_type": "code",
   "execution_count": null,
   "id": "3fe790a8",
   "metadata": {},
   "outputs": [],
   "source": []
  },
  {
   "cell_type": "code",
   "execution_count": null,
   "id": "f4344f61",
   "metadata": {},
   "outputs": [],
   "source": []
  }
 ],
 "metadata": {
  "kernelspec": {
   "display_name": "Python 3",
   "language": "python",
   "name": "python3"
  },
  "language_info": {
   "codemirror_mode": {
    "name": "ipython",
    "version": 3
   },
   "file_extension": ".py",
   "mimetype": "text/x-python",
   "name": "python",
   "nbconvert_exporter": "python",
   "pygments_lexer": "ipython3",
   "version": "3.8.8"
  }
 },
 "nbformat": 4,
 "nbformat_minor": 5
}
