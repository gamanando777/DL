{
 "cells": [
  {
   "cell_type": "markdown",
   "id": "8e2a0d5e",
   "metadata": {},
   "source": [
    "### 경사 하강법\n",
    "- 앞서 살펴본 오차 계산법을 통하면 오차를 구할 수 있다. \n",
    "- 최적의 기울기보다 기울기가 크거나 작으면 오차는 커진다\n",
    "- 최적의 y절편보다 y절편이 크거나 작으면 오차는 커진다. \n",
    "- 그러므로 오차와 기울기, 오차와 y절편간의 관계는 2차 함수 관계가 된다. \n",
    "- 이를 이용해 2차 함수를 통한 오차 그래프를 만들고 그 그래프의 접선의 기울기를 구해 접선의 기울기가 최소가 되는 지점을 찾게 된다. \n",
    "- 이때, 접선의 기울기를 구하기 위해 미분을 사용한다. "
   ]
  },
  {
   "cell_type": "code",
   "execution_count": 1,
   "id": "952c8915",
   "metadata": {},
   "outputs": [],
   "source": [
    "# 기본\n",
    "import pandas as pd\n",
    "import numpy as np\n",
    "import matplotlib.pyplot as plt\n",
    "import seaborn as sns\n",
    "\n",
    "# 경고가 뜨지 않도록..\n",
    "import warnings\n",
    "warnings.filterwarnings('ignore')\n",
    "\n",
    "# 그래프 설정\n",
    "plt.rcParams['font.family'] = 'Malgun Gothic'\n",
    "# plt.rcParams['font.family'] = 'AppleGothic'\n",
    "plt.rcParams['font.size'] = 16\n",
    "plt.rcParams['figure.figsize'] = 20, 10\n",
    "plt.rcParams['axes.unicode_minus'] = False\n",
    "\n",
    "# 저장\n",
    "import pickle\n",
    "\n",
    "# 딥러닝\n",
    "import tensorflow as tf\n",
    "\n",
    "# 딥러닝 신경망 구조를 정의하는 것.\n",
    "from tensorflow.keras.models import Sequential\n",
    "# 층 구조를 정의하는 것\n",
    "from tensorflow.keras.layers import Dense\n",
    "# 활성화 함수를 정의하는 것\n",
    "from tensorflow.keras.layers import Activation\n",
    "\n",
    "# 평가함수\n",
    "# 분류용\n",
    "from sklearn.metrics import accuracy_score\n",
    "from sklearn.metrics import precision_score\n",
    "from sklearn.metrics import recall_score\n",
    "from sklearn.metrics import f1_score\n",
    "\n",
    "# 회귀용\n",
    "from sklearn.metrics import r2_score\n",
    "from sklearn.metrics import mean_squared_error\n",
    "\n",
    "# 현재 프로젝트를 GPU에 할당한다.\n",
    "# 사용한 가능한 GPU 목록을 가져온다.\n",
    "gpus = tf.config.experimental.list_physical_devices('GPU')\n",
    "# gpu가 있다면...\n",
    "if len(gpus) > 0 :\n",
    "    try :\n",
    "        for gpu in gpus :\n",
    "            tf.config.experimental.set_memory_growth(gpu, True)\n",
    "    except RuntimeError as e :\n",
    "        print(e)\n"
   ]
  },
  {
   "cell_type": "code",
   "execution_count": 2,
   "id": "e488c01a",
   "metadata": {},
   "outputs": [],
   "source": [
    "# 입력 데이터\n",
    "공부한시간 = [2, 4, 6, 8]\n",
    "# 결과데이터\n",
    "성적 = [81, 93, 91, 97]\n"
   ]
  },
  {
   "cell_type": "code",
   "execution_count": 3,
   "id": "d4e810ac",
   "metadata": {},
   "outputs": [
    {
     "name": "stdout",
     "output_type": "stream",
     "text": [
      "[2 4 6 8]\n",
      "[81 93 91 97]\n"
     ]
    }
   ],
   "source": [
    "# 계산의 편리성을 위해 ndarray를 생성한다. \n",
    "x_data = np.array(공부한시간)\n",
    "y_data = np.array(성적)\n",
    "\n",
    "print(x_data)\n",
    "print(y_data)"
   ]
  },
  {
   "cell_type": "code",
   "execution_count": 4,
   "id": "1189721d",
   "metadata": {},
   "outputs": [],
   "source": [
    "# 임의의 기울기와 절편\n",
    "기울기 = 0\n",
    "절편 = 0"
   ]
  },
  {
   "cell_type": "code",
   "execution_count": 7,
   "id": "ccfdada3",
   "metadata": {},
   "outputs": [],
   "source": [
    "# 학습률\n",
    "lr = 0.03\n",
    "# 학습 횟수\n",
    "epochs = 5000\n"
   ]
  },
  {
   "cell_type": "code",
   "execution_count": 6,
   "id": "98cddcb6",
   "metadata": {},
   "outputs": [
    {
     "name": "stdout",
     "output_type": "stream",
     "text": [
      "epoch : 0, 기울기 : 9.28, 절편 : 1.81\n",
      "epoch : 100, 기울기 : 11.53011876080582, 절편 : 23.918598680072773\n",
      "epoch : 200, 기울기 : 8.97032309847226, 절편 : 39.19436444515965\n",
      "epoch : 300, 기울기 : 7.120437460344023, 절편 : 50.23369079298396\n",
      "epoch : 400, 기울기 : 5.783581974373916, 절편 : 58.21147260031546\n",
      "epoch : 500, 기울기 : 4.817477609037756, 절편 : 63.97677027882213\n",
      "epoch : 600, 기울기 : 4.11930368185049, 절편 : 68.14317368825714\n",
      "epoch : 700, 기울기 : 3.6147548462446433, 절편 : 71.15410535877027\n",
      "epoch : 800, 기울기 : 3.250132912370932, 절편 : 73.3300131222791\n",
      "epoch : 900, 기울기 : 2.986631849085022, 절편 : 74.90247477647904\n",
      "epoch : 1000, 기울기 : 2.7962077305599884, 절편 : 76.03884447716045\n",
      "epoch : 1100, 기울기 : 2.6585940736591147, 절편 : 76.86006392831712\n",
      "epoch : 1200, 기울기 : 2.5591449140026836, 절편 : 77.45353398172813\n",
      "epoch : 1300, 기울기 : 2.4872760633442614, 절편 : 77.8824165463088\n",
      "epoch : 1400, 기울기 : 2.4353386541916175, 절편 : 78.19235679206184\n",
      "epoch : 1500, 기울기 : 2.3978050851310653, 절편 : 78.41634108023509\n",
      "epoch : 1600, 기울기 : 2.3706807285371108, 절편 : 78.57820764011518\n",
      "epoch : 1700, 기울기 : 2.3510787898179495, 절편 : 78.6951836272307\n",
      "epoch : 1800, 기울기 : 2.336913071260949, 절편 : 78.77971857732653\n",
      "epoch : 1900, 기울기 : 2.3266759419080287, 절편 : 78.84080938719201\n",
      "epoch : 2000, 기울기 : 2.319277883209714, 절편 : 78.88495783757605\n",
      "epoch : 2100, 기울기 : 2.3139315336016537, 절편 : 78.9168625655638\n",
      "epoch : 2200, 기울기 : 2.3100678910844503, 절편 : 78.93991913174263\n",
      "epoch : 2300, 기울기 : 2.307275755404002, 절편 : 78.95658140337098\n",
      "epoch : 2400, 기울기 : 2.305257964776816, 절편 : 78.96862271488557\n",
      "epoch : 2500, 기울기 : 2.303799769516578, 절편 : 78.97732460057236\n",
      "epoch : 2600, 기울기 : 2.3027459766263103, 절편 : 78.9836131858659\n",
      "epoch : 2700, 기울기 : 2.3019844328976764, 절편 : 78.98815775314901\n",
      "epoch : 2800, 기울기 : 2.3014340886545175, 절편 : 78.99144197222648\n",
      "epoch : 2900, 기울기 : 2.30103637178735, 절편 : 78.99381537639817\n",
      "epoch : 3000, 기울기 : 2.3007489540330868, 절편 : 78.99553056263568\n",
      "epoch : 3100, 기울기 : 2.300541246057185, 절편 : 78.9967700750054\n",
      "epoch : 3200, 기울기 : 2.300391141887853, 절편 : 78.99766583249293\n",
      "epoch : 3300, 기울기 : 2.3002826662188194, 절편 : 78.99831316889394\n",
      "epoch : 3400, 기울기 : 2.3002042741873012, 절편 : 78.99878097901212\n",
      "epoch : 3500, 기울기 : 2.300147622675863, 절편 : 78.99911905100423\n",
      "epoch : 3600, 기울기 : 2.3001066823699836, 절편 : 78.99936336524078\n",
      "epoch : 3700, 기울기 : 2.3000770960694203, 절편 : 78.99953992362937\n",
      "epoch : 3800, 기울기 : 2.300055714959484, 절편 : 78.99966751694942\n",
      "epoch : 3900, 기울기 : 2.300040263488567, 절편 : 78.99975972471972\n",
      "epoch : 4000, 기울기 : 2.300029097185497, 절편 : 78.99982636044095\n",
      "epoch : 4100, 기울기 : 2.300021027641531, 절편 : 78.99987451602823\n",
      "epoch : 4200, 기울기 : 2.3000151960301456, 절편 : 78.99990931659097\n",
      "epoch : 4300, 기울기 : 2.3000109817038674, 절편 : 78.99993446588786\n",
      "epoch : 4400, 기울기 : 2.3000079361398122, 절편 : 78.99995264051165\n",
      "epoch : 4500, 기울기 : 2.3000057352042846, 절편 : 78.9999657747536\n",
      "epoch : 4600, 기울기 : 2.3000041446558424, 절편 : 78.99997526646648\n",
      "epoch : 4700, 기울기 : 2.3000029952153755, 절편 : 78.9999821258356\n",
      "epoch : 4800, 기울기 : 2.300002164550072, 절편 : 78.99998708289088\n",
      "epoch : 4900, 기울기 : 2.3000015642537934, 절편 : 78.99999066520235\n"
     ]
    }
   ],
   "source": [
    "# 학습 횟수 만큼 반복한다.\n",
    "for i in range(epochs):\n",
    "\n",
    "    # 현재의 기울기와 절편을 이용해 예측 결과를 가져온다.\n",
    "    y_pred = (기울기 * x_data) + 절편\n",
    "    # print(y_pred)\n",
    "    # 오차를 구한다\n",
    "    error = y_data - y_pred\n",
    "    # print(error)\n",
    "\n",
    "    # 오차값을 기울기로 미분한 값\n",
    "    a_diff = -(2 / len(x_data)) * sum(x_data * error)\n",
    "    # 오차값을 절편으로 미분한 값\n",
    "    b_diff = -(2 / len(x_data)) * sum(error)\n",
    "\n",
    "    # print(a_diff)\n",
    "    # print(b_diff)\n",
    "\n",
    "    # 학습률을 곱해 기존의 가중치와 절편을 업데이트 한다.\n",
    "    기울기 = 기울기 - (lr * a_diff)\n",
    "    절편 = 절편 - (lr * b_diff)\n",
    "\n",
    "    # print(기울기)\n",
    "    # print(절편)\n",
    "    \n",
    "    # 100 회마다 한번씩 결과를 출력한다.\n",
    "    if i % 100 == 0 :\n",
    "        print(f'epoch : {i}, 기울기 : {기울기}, 절편 : {절편}')\n"
   ]
  },
  {
   "cell_type": "code",
   "execution_count": null,
   "id": "200b08ab",
   "metadata": {},
   "outputs": [],
   "source": []
  },
  {
   "cell_type": "code",
   "execution_count": null,
   "id": "2a3c716b",
   "metadata": {},
   "outputs": [],
   "source": []
  },
  {
   "cell_type": "code",
   "execution_count": null,
   "id": "d9ab3bd1",
   "metadata": {},
   "outputs": [],
   "source": []
  },
  {
   "cell_type": "code",
   "execution_count": null,
   "id": "a703b419",
   "metadata": {},
   "outputs": [],
   "source": []
  },
  {
   "cell_type": "code",
   "execution_count": null,
   "id": "e467e224",
   "metadata": {},
   "outputs": [],
   "source": []
  },
  {
   "cell_type": "code",
   "execution_count": null,
   "id": "c7e8649e",
   "metadata": {},
   "outputs": [],
   "source": []
  },
  {
   "cell_type": "code",
   "execution_count": null,
   "id": "c13a7f4b",
   "metadata": {},
   "outputs": [],
   "source": []
  },
  {
   "cell_type": "code",
   "execution_count": null,
   "id": "e0a27963",
   "metadata": {},
   "outputs": [],
   "source": []
  }
 ],
 "metadata": {
  "kernelspec": {
   "display_name": "Python 3",
   "language": "python",
   "name": "python3"
  },
  "language_info": {
   "codemirror_mode": {
    "name": "ipython",
    "version": 3
   },
   "file_extension": ".py",
   "mimetype": "text/x-python",
   "name": "python",
   "nbconvert_exporter": "python",
   "pygments_lexer": "ipython3",
   "version": "3.8.8"
  }
 },
 "nbformat": 4,
 "nbformat_minor": 5
}
