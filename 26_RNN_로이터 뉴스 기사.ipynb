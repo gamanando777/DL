{
 "cells": [
  {
   "cell_type": "code",
   "execution_count": 1,
   "id": "8af5654a",
   "metadata": {},
   "outputs": [],
   "source": [
    "# 기본\n",
    "import pandas as pd\n",
    "import numpy as np\n",
    "import matplotlib.pyplot as plt\n",
    "import seaborn as sns\n",
    "\n",
    "# 경고가 뜨지 않도록..\n",
    "import warnings\n",
    "warnings.filterwarnings('ignore')\n",
    "\n",
    "# 그래프 설정\n",
    "plt.rcParams['font.family'] = 'Malgun Gothic'\n",
    "# plt.rcParams['font.family'] = 'AppleGothic'\n",
    "plt.rcParams['font.size'] = 16\n",
    "plt.rcParams['figure.figsize'] = 20, 10\n",
    "plt.rcParams['axes.unicode_minus'] = False\n",
    "\n",
    "# 출력 창 청소\n",
    "from IPython.display import clear_output\n",
    "\n",
    "import time\n",
    "\n",
    "# 평가함수\n",
    "# 분류용\n",
    "from sklearn.metrics import accuracy_score\n",
    "from sklearn.metrics import precision_score\n",
    "from sklearn.metrics import recall_score\n",
    "from sklearn.metrics import f1_score\n",
    "from sklearn.metrics import roc_auc_score\n",
    "\n",
    "# 회귀용\n",
    "from sklearn.metrics import r2_score\n",
    "from sklearn.metrics import mean_squared_error\n",
    "\n",
    "# 딥러닝\n",
    "import tensorflow as tf\n",
    "\n",
    "# 딥러닝 모델 구조를 정의하는 것\n",
    "from tensorflow.keras.models import Sequential\n",
    "# 층 모델(은닉층과 출력층)\n",
    "from tensorflow.keras.layers import Dense\n",
    "# 활성화 함수를 정의하는 것\n",
    "from tensorflow.keras.layers import Activation\n",
    "# CNN : 커널을 통해 합성곱을 구하는 것. 이미지의 특징을 두드러지게 한다.\n",
    "from tensorflow.keras.layers import Conv2D\n",
    "# MaxPooling : 불필요한 부분을 제거하는 역할을 한다\n",
    "from tensorflow.keras.layers import MaxPool2D\n",
    "# Flatten : CNN, MaxPooling은 2차원 데이터를 사용하고 출력하기 때문에\n",
    "# 1차원 데이터로 변하는 것을 사용해야 한다.\n",
    "from tensorflow.keras.layers import Flatten\n",
    "# Dropout : 노드의 일부를 on/off 하면서 과적합을 예방한다.\n",
    "from tensorflow.keras.layers import Dropout\n",
    "# Embedding : 주어진 단어 데이터를 원핫 인코딩하고 차원축소를 한다.\n",
    "from tensorflow.keras.layers import Embedding\n",
    "# 문장 학습을 위한 RNN(LSTM)\n",
    "from tensorflow.keras.layers import LSTM\n",
    "# Cnn1D\n",
    "from tensorflow.keras.layers import Conv1D\n",
    "from tensorflow.keras.layers import MaxPool1D\n",
    "\n",
    "\n",
    "# 데이터 표준화\n",
    "from sklearn.preprocessing import StandardScaler\n",
    "# 문자열을 숫자로 변환\n",
    "from sklearn.preprocessing import LabelEncoder\n",
    "# 원핫 인코딩\n",
    "from tensorflow.keras.utils import to_categorical\n",
    "\n",
    "# 학습데이터와 검증데이터로 나눈다\n",
    "from sklearn.model_selection import train_test_split\n",
    "\n",
    "# K폴드 교차검증\n",
    "from sklearn.model_selection import KFold\n",
    "\n",
    "# 저장된 모델을 복원한다.\n",
    "from tensorflow.keras.models import load_model\n",
    "\n",
    "# epoch 마다 저장을 하기 위해 사용한다.\n",
    "from tensorflow.keras.callbacks import ModelCheckpoint\n",
    "# 조기 중단을 위해 사용한다.\n",
    "from tensorflow.keras.callbacks import EarlyStopping\n",
    "\n",
    "# 문장을 잘라준다.\n",
    "from tensorflow.keras.preprocessing.text import Tokenizer\n",
    "# 모든 문장의 데이터의 단어 데이터 수를 동일한 수로 맞춰준다.\n",
    "from tensorflow.keras.preprocessing.sequence import pad_sequences\n",
    "# 문자열을 단어사전으로 만들어준다.\n",
    "from tensorflow.keras.preprocessing.text import text_to_word_sequence\n",
    "\n",
    "\n",
    "# GPU 할당\n",
    "gpus = tf.config.experimental.list_physical_devices('GPU')\n",
    "# GPU가 있다면..\n",
    "if len(gpus) > 0 :\n",
    "    try :\n",
    "        for gpu in gpus :\n",
    "            tf.config.experimental.set_memory_growth(gpu, True)\n",
    "    except RuntimeError as e :\n",
    "        print(e)"
   ]
  },
  {
   "cell_type": "code",
   "execution_count": 2,
   "id": "27b38db4",
   "metadata": {},
   "outputs": [],
   "source": [
    "# 로이터 데이터를 불러온다.\n",
    "# 이 데이터는 이미 토큰화와 숫자 변환이 완료된 데이터이다.\n",
    "from tensorflow.keras.datasets import reuters\n"
   ]
  },
  {
   "cell_type": "code",
   "execution_count": 3,
   "id": "e4fbd5af",
   "metadata": {},
   "outputs": [],
   "source": [
    "(X_train, y_train), (X_test, y_test) = reuters.load_data(num_words=1000,\n",
    "                                                        test_split=0.2)\n",
    "# 각 기사 하나당 단어 수 1000개만"
   ]
  },
  {
   "cell_type": "code",
   "execution_count": 4,
   "id": "9a46ac95",
   "metadata": {},
   "outputs": [
    {
     "data": {
      "text/plain": [
       "0       55\n",
       "1      432\n",
       "2       74\n",
       "3     3159\n",
       "4     1949\n",
       "5       17\n",
       "6       48\n",
       "7       16\n",
       "8      139\n",
       "9      101\n",
       "10     124\n",
       "11     390\n",
       "12      49\n",
       "13     172\n",
       "14      26\n",
       "15      20\n",
       "16     444\n",
       "17      39\n",
       "18      66\n",
       "19     549\n",
       "20     269\n",
       "21     100\n",
       "22      15\n",
       "23      41\n",
       "24      62\n",
       "25      92\n",
       "26      24\n",
       "27      15\n",
       "28      48\n",
       "29      19\n",
       "30      45\n",
       "31      39\n",
       "32      32\n",
       "33      11\n",
       "34      50\n",
       "35      10\n",
       "36      49\n",
       "37      19\n",
       "38      19\n",
       "39      24\n",
       "40      36\n",
       "41      30\n",
       "42      13\n",
       "43      21\n",
       "44      12\n",
       "45      18\n",
       "dtype: int64"
      ]
     },
     "execution_count": 4,
     "metadata": {},
     "output_type": "execute_result"
    }
   ],
   "source": [
    "# 결과 데이터 확인\n",
    "# 결과 데이터는 0부터 1씩 증가한다\n",
    "pd.Series(y_train).value_counts().sort_index() # 기사 별 단어의 수"
   ]
  },
  {
   "cell_type": "code",
   "execution_count": 5,
   "id": "39171003",
   "metadata": {},
   "outputs": [
    {
     "name": "stdout",
     "output_type": "stream",
     "text": [
      "결과데이터 종류 수 : 46\n",
      "학습용 뉴스 기사 개수 : 8982\n",
      "테스트용 뉴스 기사 개수 : 2246\n"
     ]
    }
   ],
   "source": [
    "# 카테고리 개수\n",
    "a1 = len(pd.Series(y_train).value_counts())\n",
    "print(f'결과데이터 종류 수 : {a1}')\n",
    "\n",
    "# 학습용 뉴스 기사 개수\n",
    "a2 = len(X_train)\n",
    "print(f'학습용 뉴스 기사 개수 : {a2}')\n",
    "\n",
    "# 테스트용 뉴스 기사 개수\n",
    "a3 = len(X_test)\n",
    "print(f'테스트용 뉴스 기사 개수 : {a3}')\n"
   ]
  },
  {
   "cell_type": "code",
   "execution_count": 6,
   "id": "bf735f2e",
   "metadata": {},
   "outputs": [
    {
     "name": "stdout",
     "output_type": "stream",
     "text": [
      "[1, 2, 2, 8, 43, 10, 447, 5, 25, 207, 270, 5, 2, 111, 16, 369, 186, 90, 67, 7, 89, 5, 19, 102, 6, 19, 124, 15, 90, 67, 84, 22, 482, 26, 7, 48, 4, 49, 8, 864, 39, 209, 154, 6, 151, 6, 83, 11, 15, 22, 155, 11, 15, 7, 48, 9, 2, 2, 504, 6, 258, 6, 272, 11, 15, 22, 134, 44, 11, 15, 16, 8, 197, 2, 90, 67, 52, 29, 209, 30, 32, 132, 6, 109, 15, 17, 12]\n"
     ]
    }
   ],
   "source": [
    "print(X_train[0])\n"
   ]
  },
  {
   "cell_type": "code",
   "execution_count": 7,
   "id": "c6630d6a",
   "metadata": {},
   "outputs": [
    {
     "name": "stdout",
     "output_type": "stream",
     "text": [
      "87\n",
      "56\n"
     ]
    }
   ],
   "source": [
    "print(len(X_train[0]))\n",
    "print(len(X_train[1])) \n",
    "# 기사 마다 단어의 개수 다름"
   ]
  },
  {
   "cell_type": "code",
   "execution_count": 8,
   "id": "d3f5c9d6",
   "metadata": {},
   "outputs": [
    {
     "name": "stdout",
     "output_type": "stream",
     "text": [
      "2376\n",
      "1032\n"
     ]
    }
   ],
   "source": [
    "# 각 문장의 단어수가 다르므로 이를 똑같이 맞춰준다.\n",
    "X_train = pad_sequences(X_train)\n",
    "X_test = pad_sequences(X_test)\n",
    "\n",
    "print(len(X_train[0]))\n",
    "print(len(X_test[0]))\n"
   ]
  },
  {
   "cell_type": "code",
   "execution_count": 9,
   "id": "cd8ae1a5",
   "metadata": {},
   "outputs": [
    {
     "data": {
      "text/plain": [
       "array([0., 0., 0., 1., 0., 0., 0., 0., 0., 0., 0., 0., 0., 0., 0., 0., 0.,\n",
       "       0., 0., 0., 0., 0., 0., 0., 0., 0., 0., 0., 0., 0., 0., 0., 0., 0.,\n",
       "       0., 0., 0., 0., 0., 0., 0., 0., 0., 0., 0., 0.], dtype=float32)"
      ]
     },
     "execution_count": 9,
     "metadata": {},
     "output_type": "execute_result"
    }
   ],
   "source": [
    "# 결과 데이터를 원핫 인코딩한다.\n",
    "y_train = to_categorical(y_train)\n",
    "y_test = to_categorical(y_test)\n",
    "\n",
    "y_train[0]\n"
   ]
  },
  {
   "cell_type": "code",
   "execution_count": 10,
   "id": "9e9f92fc",
   "metadata": {},
   "outputs": [],
   "source": [
    "# 모델 설정\n",
    "model = Sequential()\n",
    "\n",
    "# 문장당 최대 1000개의 데이터를 100개로 압축한다.\n",
    "model.add(Embedding(1000, 100))\n",
    "model.add(Dropout(0.5))\n",
    "\n",
    "# CNN\n",
    "model.add(Conv1D(64, kernel_size=3))\n",
    "model.add(Activation('relu'))\n",
    "\n",
    "model.add(MaxPool1D(pool_size=2))\n",
    "model.add(Dropout(0.25))\n",
    "\n",
    "\n",
    "\n",
    "# RNN(LSTM) -> 위에서 100으로 압축했기 때문에 노드의 수는\n",
    "# 100을 설정한다.\n",
    "model.add(LSTM(100))\n",
    "model.add(Activation('tanh'))\n",
    "\n",
    "# 출력층 -> 결과데이터의 종류가 46개이므로..\n",
    "model.add(Dense(46))\n",
    "model.add(Activation('softmax'))\n"
   ]
  },
  {
   "cell_type": "code",
   "execution_count": 11,
   "id": "7d4e5a89",
   "metadata": {},
   "outputs": [],
   "source": [
    "# 모델 컴파일\n",
    "model.compile(loss='categorical_crossentropy', optimizer='adam',\n",
    "              metrics=['accuracy'])\n"
   ]
  },
  {
   "cell_type": "code",
   "execution_count": 12,
   "id": "0e40d05d",
   "metadata": {},
   "outputs": [
    {
     "name": "stdout",
     "output_type": "stream",
     "text": [
      "Epoch 1/20\n",
      "5/5 [==============================] - 233s 43s/step - loss: 3.7983 - accuracy: 0.1983 - val_loss: 3.7281 - val_accuracy: 0.3620\n",
      "Epoch 2/20\n",
      "5/5 [==============================] - 245s 49s/step - loss: 3.5871 - accuracy: 0.3517 - val_loss: 3.2147 - val_accuracy: 0.3620\n",
      "Epoch 3/20\n",
      "5/5 [==============================] - 260s 51s/step - loss: 2.8589 - accuracy: 0.3517 - val_loss: 2.5897 - val_accuracy: 0.3620\n",
      "Epoch 4/20\n",
      "5/5 [==============================] - 260s 52s/step - loss: 2.5381 - accuracy: 0.3517 - val_loss: 2.5039 - val_accuracy: 0.3620\n",
      "Epoch 5/20\n",
      "5/5 [==============================] - 268s 49s/step - loss: 2.4741 - accuracy: 0.3517 - val_loss: 2.4677 - val_accuracy: 0.3620\n",
      "Epoch 6/20\n",
      "5/5 [==============================] - 273s 54s/step - loss: 2.4369 - accuracy: 0.3517 - val_loss: 2.4384 - val_accuracy: 0.3620\n",
      "Epoch 7/20\n",
      "5/5 [==============================] - 302s 60s/step - loss: 2.4145 - accuracy: 0.3517 - val_loss: 2.4230 - val_accuracy: 0.3620\n",
      "Epoch 8/20\n",
      "5/5 [==============================] - 265s 51s/step - loss: 2.4054 - accuracy: 0.3517 - val_loss: 2.4114 - val_accuracy: 0.3620\n",
      "Epoch 9/20\n",
      "5/5 [==============================] - 281s 55s/step - loss: 2.3962 - accuracy: 0.3517 - val_loss: 2.4033 - val_accuracy: 0.3620\n",
      "Epoch 10/20\n",
      "5/5 [==============================] - 302s 58s/step - loss: 2.3877 - accuracy: 0.3517 - val_loss: 2.3877 - val_accuracy: 0.3620\n",
      "Epoch 11/20\n",
      "5/5 [==============================] - 312s 59s/step - loss: 2.3672 - accuracy: 0.3517 - val_loss: 2.3545 - val_accuracy: 0.3620\n",
      "Epoch 12/20\n",
      "5/5 [==============================] - 284s 55s/step - loss: 2.3276 - accuracy: 0.3517 - val_loss: 2.3080 - val_accuracy: 0.3620\n",
      "Epoch 13/20\n",
      "5/5 [==============================] - 298s 58s/step - loss: 2.2802 - accuracy: 0.3618 - val_loss: 2.2478 - val_accuracy: 0.4185\n",
      "Epoch 14/20\n",
      "5/5 [==============================] - 308s 61s/step - loss: 2.2108 - accuracy: 0.4440 - val_loss: 2.1656 - val_accuracy: 0.4898\n",
      "Epoch 15/20\n",
      "5/5 [==============================] - 320s 62s/step - loss: 2.1297 - accuracy: 0.4866 - val_loss: 2.1048 - val_accuracy: 0.4907\n",
      "Epoch 16/20\n",
      "5/5 [==============================] - 320s 62s/step - loss: 2.0848 - accuracy: 0.4920 - val_loss: 2.0608 - val_accuracy: 0.5062\n",
      "Epoch 17/20\n",
      "5/5 [==============================] - 318s 62s/step - loss: 2.0386 - accuracy: 0.4999 - val_loss: 2.0340 - val_accuracy: 0.5080\n",
      "Epoch 18/20\n",
      "5/5 [==============================] - 316s 61s/step - loss: 2.0099 - accuracy: 0.5040 - val_loss: 2.0027 - val_accuracy: 0.5165\n",
      "Epoch 19/20\n",
      "5/5 [==============================] - 328s 64s/step - loss: 1.9784 - accuracy: 0.5130 - val_loss: 1.9985 - val_accuracy: 0.5093\n",
      "Epoch 20/20\n",
      "5/5 [==============================] - 321s 62s/step - loss: 1.9630 - accuracy: 0.5101 - val_loss: 1.9661 - val_accuracy: 0.5102\n"
     ]
    }
   ],
   "source": [
    "with tf.device('/CPU:0') :\n",
    "    history = model.fit(X_train, y_train, validation_data=(X_test, y_test),\n",
    "                   batch_size=2000, epochs=20)\n"
   ]
  },
  {
   "cell_type": "code",
   "execution_count": 13,
   "id": "bbe7aca5",
   "metadata": {},
   "outputs": [
    {
     "data": {
      "image/png": "[encoded data removed]",
      "text/plain": [
       "<Figure size 1440x720 with 1 Axes>"
      ]
     },
     "metadata": {
      "needs_background": "light"
     },
     "output_type": "display_data"
    }
   ],
   "source": [
    "plt.plot(history.history['accuracy'], label='accuracy')\n",
    "plt.plot(history.history['val_accuracy'], label='val_accuracy')\n",
    "plt.plot(history.history['loss'], label='loss')\n",
    "plt.plot(history.history['val_loss'], label='val_loss')\n",
    "plt.legend()\n",
    "plt.show()\n"
   ]
  },
  {
   "cell_type": "code",
   "execution_count": null,
   "id": "1e283fd8",
   "metadata": {},
   "outputs": [],
   "source": []
  }
 ],
 "metadata": {
  "kernelspec": {
   "display_name": "Python 3",
   "language": "python",
   "name": "python3"
  },
  "language_info": {
   "codemirror_mode": {
    "name": "ipython",
    "version": 3
   },
   "file_extension": ".py",
   "mimetype": "text/x-python",
   "name": "python",
   "nbconvert_exporter": "python",
   "pygments_lexer": "ipython3",
   "version": "3.8.8"
  }
 },
 "nbformat": 4,
 "nbformat_minor": 5
}
