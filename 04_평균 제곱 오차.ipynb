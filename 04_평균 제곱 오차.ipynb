{
 "cells": [
  {
   "cell_type": "code",
   "execution_count": 1,
   "id": "fc77a74f",
   "metadata": {},
   "outputs": [],
   "source": [
    "# 기본\n",
    "import pandas as pd\n",
    "import numpy as np\n",
    "import matplotlib.pyplot as plt\n",
    "import seaborn as sns\n",
    "\n",
    "# 경고가 뜨지 않도록..\n",
    "import warnings\n",
    "warnings.filterwarnings('ignore')\n",
    "\n",
    "# 그래프 설정\n",
    "plt.rcParams['font.family'] = 'Malgun Gothic'\n",
    "# plt.rcParams['font.family'] = 'AppleGothic'\n",
    "plt.rcParams['font.size'] = 16\n",
    "plt.rcParams['figure.figsize'] = 20, 10\n",
    "plt.rcParams['axes.unicode_minus'] = False\n",
    "\n",
    "# 저장\n",
    "import pickle\n",
    "\n",
    "# 딥러닝\n",
    "import tensorflow as tf\n",
    "\n",
    "# 딥러닝 신경망 구조를 정의하는 것.\n",
    "from tensorflow.keras.models import Sequential\n",
    "# 층 구조를 정의하는 것\n",
    "from tensorflow.keras.layers import Dense\n",
    "# 활성화 함수를 정의하는 것\n",
    "from tensorflow.keras.layers import Activation\n",
    "\n",
    "# 평가함수\n",
    "# 분류용\n",
    "from sklearn.metrics import accuracy_score\n",
    "from sklearn.metrics import precision_score\n",
    "from sklearn.metrics import recall_score\n",
    "from sklearn.metrics import f1_score\n",
    "\n",
    "# 회귀용\n",
    "from sklearn.metrics import r2_score\n",
    "from sklearn.metrics import mean_squared_error\n",
    "\n",
    "# 현재 프로젝트를 GPU에 할당한다.\n",
    "# 사용한 가능한 GPU 목록을 가져온다.\n",
    "gpus = tf.config.experimental.list_physical_devices('GPU')\n",
    "# gpu가 있다면...\n",
    "if len(gpus) > 0 :\n",
    "    try :\n",
    "        for gpu in gpus :\n",
    "            tf.config.experimental.set_memory_growth(gpu, True)\n",
    "    except RuntimeError as e :\n",
    "        print(e)\n"
   ]
  },
  {
   "cell_type": "markdown",
   "id": "9a9c3fad",
   "metadata": {},
   "source": [
    "### 평균 제곱 오차\n",
    "- 진짜 결과와 예측된 결과가 얼마나 차이나는지 살펴본다.\n",
    "- 진짜 결과와 예측된 결과의 차이를 제곱하여 합산하고 그 평균을 구한다. \n",
    "![3](image/3.png)"
   ]
  },
  {
   "cell_type": "code",
   "execution_count": 2,
   "id": "7940d173",
   "metadata": {},
   "outputs": [],
   "source": [
    "# 입력 데이터\n",
    "공부한시간 = [2,4,6,8]\n",
    "# 결과 데이터\n",
    "성적 = [81,93,91,97]"
   ]
  },
  {
   "cell_type": "code",
   "execution_count": 3,
   "id": "708be20a",
   "metadata": {},
   "outputs": [],
   "source": [
    "# 기울기와 y절편\n",
    "기울기 = 2.3\n",
    "y절편 = 79.0\n"
   ]
  },
  {
   "cell_type": "code",
   "execution_count": 4,
   "id": "cbf8f404",
   "metadata": {},
   "outputs": [
    {
     "data": {
      "text/plain": [
       "[83.6, 88.2, 92.8, 97.4]"
      ]
     },
     "execution_count": 4,
     "metadata": {},
     "output_type": "execute_result"
    }
   ],
   "source": [
    "# 학습 데이터를 통해 예측 성적을 계산한다. \n",
    "예측성적 = []\n",
    "\n",
    "for v1 in 공부한시간 :\n",
    "    a1 = (기울기 * v1) + y절편\n",
    "    예측성적.append(a1)\n",
    "    \n",
    "예측성적\n"
   ]
  },
  {
   "cell_type": "code",
   "execution_count": 5,
   "id": "e40a627a",
   "metadata": {},
   "outputs": [
    {
     "name": "stdout",
     "output_type": "stream",
     "text": [
      "[81 93 91 97]\n",
      "[83.6 88.2 92.8 97.4]\n"
     ]
    }
   ],
   "source": [
    "# 계산의 편리성을 위해 ndarray를 생성한다.\n",
    "array1 = np.array(성적)\n",
    "array2 = np.array(예측성적)\n",
    "\n",
    "print(array1)\n",
    "print(array2)\n"
   ]
  },
  {
   "cell_type": "code",
   "execution_count": 6,
   "id": "65863b7c",
   "metadata": {},
   "outputs": [
    {
     "data": {
      "text/plain": [
       "array([-2.6,  4.8, -1.8, -0.4])"
      ]
     },
     "execution_count": 6,
     "metadata": {},
     "output_type": "execute_result"
    }
   ],
   "source": [
    "# 진짜 결과와 예측 결과를 뺀다\n",
    "array3 = array1 - array2\n",
    "array3"
   ]
  },
  {
   "cell_type": "code",
   "execution_count": 7,
   "id": "90725acc",
   "metadata": {},
   "outputs": [
    {
     "data": {
      "text/plain": [
       "array([ 6.76, 23.04,  3.24,  0.16])"
      ]
     },
     "execution_count": 7,
     "metadata": {},
     "output_type": "execute_result"
    }
   ],
   "source": [
    "# 제곱을 구한다\n",
    "array4 = array3 ** 2\n",
    "array4"
   ]
  },
  {
   "cell_type": "code",
   "execution_count": 8,
   "id": "86f714e9",
   "metadata": {},
   "outputs": [
    {
     "data": {
      "text/plain": [
       "8.299999999999985"
      ]
     },
     "execution_count": 8,
     "metadata": {},
     "output_type": "execute_result"
    }
   ],
   "source": [
    "# 평균을 구한다\n",
    "mse = array4.mean()\n",
    "mse"
   ]
  },
  {
   "cell_type": "code",
   "execution_count": null,
   "id": "55b2c82d",
   "metadata": {},
   "outputs": [],
   "source": []
  },
  {
   "cell_type": "code",
   "execution_count": null,
   "id": "260d0300",
   "metadata": {},
   "outputs": [],
   "source": []
  },
  {
   "cell_type": "code",
   "execution_count": null,
   "id": "50a77093",
   "metadata": {},
   "outputs": [],
   "source": []
  },
  {
   "cell_type": "code",
   "execution_count": null,
   "id": "7391bc24",
   "metadata": {},
   "outputs": [],
   "source": []
  },
  {
   "cell_type": "code",
   "execution_count": null,
   "id": "ee662518",
   "metadata": {},
   "outputs": [],
   "source": []
  }
 ],
 "metadata": {
  "kernelspec": {
   "display_name": "Python 3",
   "language": "python",
   "name": "python3"
  },
  "language_info": {
   "codemirror_mode": {
    "name": "ipython",
    "version": 3
   },
   "file_extension": ".py",
   "mimetype": "text/x-python",
   "name": "python",
   "nbconvert_exporter": "python",
   "pygments_lexer": "ipython3",
   "version": "3.8.8"
  }
 },
 "nbformat": 4,
 "nbformat_minor": 5
}
